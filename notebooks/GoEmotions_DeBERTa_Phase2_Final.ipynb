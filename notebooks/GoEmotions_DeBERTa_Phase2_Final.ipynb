{
 "cells": [
  {
   "cell_type": "code",
   "execution_count": null,
   "id": "setup-rclone",
   "metadata": {},
   "outputs": [],
   "source": [
    "# Setup: Mount Google Drive using rclone\n",
    "!rclone mount drive: /mnt/drive --vfs-cache-mode writes --daemon\n",
    "\n",
    "# Verify mount\n",
    "!df -h /mnt/drive\n",
    "\n",
    "# Create outputs directory if it doesn't exist\n",
    "!mkdir -p /mnt/drive/outputs"
   ]
  },
  {
   "cell_type": "code",
   "execution_count": null,
   "id": "load-phase1.5",
   "metadata": {},
   "outputs": [],
   "source": [
    "# Load Phase 1.5 results for top 2 config selection\n",
    "# Assuming Phase 1.5 results are stored in /mnt/drive/outputs/phase1.5_results.json or similar\n",
    "# Adjust path as needed based on actual Phase 1.5 output\n",
    "import json\n",
    "import pandas as pd\n",
    "\n",
    "# Load results (example path; update if different)\n",
    "phase1_5_results_path = '/mnt/drive/outputs/phase1.5_results.json'\n",
    "with open(phase1_5_results_path, 'r') as f:\n",
    "    results = json.load(f)\n",
    "\n",
    "# Convert to DataFrame for analysis\n",
    "df_results = pd.DataFrame(results)\n",
    "\n",
    "# Select top 2 configs based on key metric (e.g., F1 score)\n",
    "# Assuming results contain config details and metrics\n",
    "top_configs = df_results.nlargest(2, 'f1_score')[['config_id', 'output_dir', 'f1_score']]\n",
    "top1_config = top_configs.iloc[0]\n",
    "top2_config = top_configs.iloc[1]\n",
    "\n",
    "print('Top 1 Config:', top1_config)\n",
    "print('Top 2 Config:', top2_config)\n",
    "\n",
    "# For demonstration, assume top1 uses --output_dir '/mnt/drive/outputs/phase2_top1'\n",
    "# top2 uses --output_dir '/mnt/drive/outputs/phase2_top2'\n",
    "# In practice, derive full args from loaded config"
   ]
  },
  {
   "cell_type": "code",
   "execution_count": null,
   "id": "train-top1",
   "metadata": {},
   "outputs": [],
   "source": [
    "# Sequential Training: Top 1 Config - 3 epochs, 30k samples\n",
    "# Do not run this cell; structure only\n",
    "# Modify args based on top1_config; example using train_deberta_local.py\n",
    "!python notebooks/scripts/train_deberta_local.py \\\n",
    "    --data_path data/goemotions/train.jsonl \\\n",
    "    --val_path data/goemotions/val.jsonl \\\n",
    "    --output_dir '/mnt/drive/outputs/phase2_top1' \\\n",
    "    --num_train_epochs 3 \\\n",
    "    --max_train_samples 30000 \\\n",
    "    --model_name_or_path microsoft/deberta-v3-base \\\n",
    "    --per_device_train_batch_size 16 \\\n",
    "    --per_device_eval_batch_size 16 \\\n",
    "    --learning_rate 2e-5 \\\n",
    "    # Add other args from top1_config as needed"
   ]
  },
  {
   "cell_type": "code",
   "execution_count": null,
   "id": "train-top2",
   "metadata": {},
   "outputs": [],
   "source": [
    "# Sequential Training: Top 2 Config - 3 epochs, 30k samples\n",
    "# Do not run this cell; structure only\n",
    "# Modify args based on top2_config; example using train_deberta_local.py\n",
    "!python notebooks/scripts/train_deberta_local.py \\\n",
    "    --data_path data/goemotions/train.jsonl \\\n",
    "    --val_path data/goemotions/val.jsonl \\\n",
    "    --output_dir '/mnt/drive/outputs/phase2_top2' \\\n",
    "    --num_train_epochs 3 \\\n",
    "    --max_train_samples 30000 \\\n",
    "    --model_name_or_path microsoft/deberta-v3-base \\\n",
    "    --per_device_train_batch_size 16 \\\n",
    "    --per_device_eval_batch_size 16 \\\n",
    "    --learning_rate 2e-5 \\\n",
    "    # Add other args from top2_config as needed"
   ]
  },
  {
   "cell_type": "code",
   "execution_count": null,
   "id": "analysis",
   "metadata": {},
   "outputs": [],
   "source": [
    "# Analysis: Compare Phase 2 results\n",
    "# Load results from phase2_top1 and phase2_top2\n",
    "import json\n",
    "import pandas as pd\n",
    "import matplotlib.pyplot as plt\n",
    "\n",
    "# Load Phase 2 results (assuming trainer_state.json or similar)\n",
    "top1_results = json.load(open('/mnt/drive/outputs/phase2_top1/trainer_state.json'))\n",
    "top2_results = json.load(open('/mnt/drive/outputs/phase2_top2/trainer_state.json'))\n",
    "\n",
    "# Example: Extract eval metrics and plot\n",
    "df_top1 = pd.DataFrame(top1_results.get('log_history', []))\n",
    "df_top2 = pd.DataFrame(top2_results.get('log_history', []))\n",
    "\n",
    "# Plot comparison (e.g., eval_loss over epochs)\n",
    "plt.figure(figsize=(10, 5))\n",
    "plt.plot(df_top1['epoch'], df_top1['eval_loss'], label='Top1')\n",
    "plt.plot(df_top2['epoch'], df_top2['eval_loss'], label='Top2')\n",
    "plt.xlabel('Epoch')\n",
    "plt.ylabel('Eval Loss')\n",
    "plt.legend()\n",
    "plt.title('Phase 2 Training Comparison')\n",
    "plt.show()\n",
    "\n",
    "# Summary statistics\n",
    "print('Top1 Final F1:', df_top1['eval_f1'].iloc[-1])\n",
    "print('Top2 Final F1:', df_top2['eval_f1'].iloc[-1])"
   ]
  },
  {
   "cell_type": "code",
   "execution_count": null,
   "id": "post-training-copy",
   "metadata": {},
   "outputs": [],
   "source": [
    "# Post-training: Copy local backups to Drive if needed\n",
    "# Reconnect if needed\n",
    "!rclone config reconnect drive:\n",
    "\n",
    "# Copy local outputs to Drive backup path\n",
    "!rclone --drive-pacer-min-sleep=1s copy outputs/ \"drive:00_Projects/TechLabs-2025/Final_Project/TRAINING/GoEmotions-DeBERTa-Backup/outputs\"\n",
    "\n",
    "# Specifically copy phase2 outputs\n",
    "!rclone --drive-pacer-min-sleep=1s copy /mnt/drive/outputs/phase2_top1 \"drive:00_Projects/TechLabs-2025/Final_Project/TRAINING/GoEmotions-DeBERTa-Backup/phase2_top1\"\n",
    "!rclone --drive-pacer-min-sleep=1s copy /mnt/drive/outputs/phase2_top2 \"drive:00_Projects/TechLabs-2025/Final_Project/TRAINING/GoEmotions-DeBERTa-Backup/phase2_top2\"\n",
    "\n",
    "print('Backup copy completed')"
   ]
  }
 ],
 "metadata": {
  "kernelspec": {
   "display_name": "Python 3",
   "language": "python",
   "name": "python3"
  },
  "language_info": {
   "codemirror_mode": {
    "name": "ipython",
    "version": 3
   },
   "file_extension": ".py",
   "mimetype": "text/x-python",
   "name": "python",
   "nbconvert_exporter": "python",
   "pygments_lexer": "ipython3",
   "version": "3.8.10"
  }
 },
 "nbformat": 4,
 "nbformat_minor": 5
}