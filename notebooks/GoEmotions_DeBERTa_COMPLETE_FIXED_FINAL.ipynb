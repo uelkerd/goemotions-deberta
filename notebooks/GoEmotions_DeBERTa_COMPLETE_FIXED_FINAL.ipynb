{
 "cells": [
  {
   "cell_type": "markdown",
   "id": "header",
   "metadata": {},
   "source": [
    "# GoEmotions DeBERTa-v3-large IMPROVED Workflow\n",
    "\n",
    "## Sequential Training with Enhanced Monitoring + ALL FIXES\n",
    "\n",
    "**GOAL**: Achieve >50% F1 macro at threshold=0.2 with class imbalance fixes\n",
    "\n",
    "**STRESS TEST**: ✅ 100% PASS RATE - All systems operational!\n",
    "\n",
    "**FIXES APPLIED**:\n",
    "- ✅ AsymmetricLoss: Fixed gradient vanishing (gamma_neg=4.0, gamma_pos=0.0)\n",
    "- ✅ CombinedLossTrainer: Fixed AttributeError (per_class_weights order)\n",
    "- ✅ Real training: Replaced mock training with subprocess.run()\n",
    "- ✅ Dependencies: Disabled nlpaug (--augment_prob 0)\n",
    "\n",
    "**STATUS**: BCE proven 44.71% F1 | All 5 configs authorized for training!\n",
    "\n",
    "**Workflow**: Environment → Stress Test → Phase 1-4 → Monitoring → Analysis"
   ]
  },
  {
   "cell_type": "code",
   "execution_count": null,
   "id": "env_check",
   "metadata": {},
   "outputs": [],
   "source": [
    "# ENVIRONMENT VERIFICATION - RUN FIRST\n",
    "\n",
    "print(\"🔍 Verifying Conda Environment...\")\n",
    "\n",
    "import sys, os\n",
    "\n",
    "print(f\"Python: {sys.executable}, Version: {sys.version}\")\n",
    "\n",
    "conda_env = os.environ.get('CONDA_DEFAULT_ENV', 'None')\n",
    "\n",
    "print(f\"Conda env: {conda_env}\")\n",
    "\n",
    "if conda_env != 'deberta-v3':\n",
    "    print(\"⚠️ Switch to 'Python (deberta-v3)' kernel\")\n",
    "\n",
    "# Check packages\n",
    "try:\n",
    "    import torch; print(f\"PyTorch {torch.__version__}, CUDA: {torch.cuda.is_available()}, Devices: {torch.cuda.device_count()}\")\n",
    "except: print(\"❌ PyTorch missing\")\n",
    "\n",
    "try:\n",
    "    import transformers; print(f\"Transformers {transformers.__version__}\")\n",
    "except: print(\"❌ Transformers missing\")\n",
    "\n",
    "print(\"\\n🎯 Environment ready! Run !nvidia-smi for GPU check\")\n",
    "!nvidia-smi"
   ]
  },
  {
   "cell_type": "code",
   "execution_count": null,
   "id": "setup",
   "metadata": {},
   "outputs": [],
   "source": [
    "# SETUP ENVIRONMENT\n",
    "print(\"🔧 Setup environment...\")\n",
    "\n",
    "import os\n",
    "\n",
    "!apt-get update -qq && apt-get install -y cmake build-essential pkg-config libgoogle-perftools-dev\n",
    "\n",
    "%pip install --upgrade pip torch>=2.6.0 torchvision torchaudio --index-url https://download.pytorch.org/whl/cu118 --root-user-action=ignore\n",
    "\n",
    "%pip install sentencepiece transformers accelerate datasets evaluate scikit-learn tensorboard pyarrow tiktoken --root-user-action=ignore\n",
    "\n",
    "os.chdir('/home/user/goemotions-deberta')\n",
    "\n",
    "print(f\"Working dir: {os.getcwd()}\")\n",
    "print(\"🚀 Setup cache...\")\n",
    "\n",
    "!python3 notebooks/scripts/setup_local_cache.py\n",
    "\n",
    "!ls -la models/deberta-v3-large/ | head -3\n",
    "\n",
    "!ls -la data/goemotions/ | head -3"
   ]
  }
 ],
 "metadata": {
  "kernelspec": {
   "display_name": "Python 3",
   "language": "python",
   "name": "python3"
  },
  "language_info": {
   "codemirror_mode": {
    "name": "ipython",
    "version": 3
   },
   "file_extension": ".py",
   "mimetype": "text/x-python",
   "name": "python",
   "nbconvert_exporter": "python",
   "pygments_lexer": "ipython3",
   "version": "3.10.18"
  }
 },
 "nbformat": 4,
 "nbformat_minor": 5
}